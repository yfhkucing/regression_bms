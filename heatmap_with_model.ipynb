{
  "nbformat": 4,
  "nbformat_minor": 0,
  "metadata": {
    "colab": {
      "provenance": [],
      "collapsed_sections": [],
      "authorship_tag": "ABX9TyOKOlALGWFu+ma+5CmUkTOu",
      "include_colab_link": true
    },
    "kernelspec": {
      "name": "python3",
      "display_name": "Python 3"
    },
    "language_info": {
      "name": "python"
    }
  },
  "cells": [
    {
      "cell_type": "markdown",
      "metadata": {
        "id": "view-in-github",
        "colab_type": "text"
      },
      "source": [
        "<a href=\"https://colab.research.google.com/github/yfhkucing/regression_bms/blob/master/heatmap_with_model.ipynb\" target=\"_parent\"><img src=\"https://colab.research.google.com/assets/colab-badge.svg\" alt=\"Open In Colab\"/></a>"
      ]
    },
    {
      "cell_type": "code",
      "source": [
        "! pip install -U kaleido"
      ],
      "metadata": {
        "colab": {
          "base_uri": "https://localhost:8080/"
        },
        "id": "nrAlDdeo9Mp8",
        "outputId": "db289c43-6afb-4dcf-812b-eaa8d85ffa98"
      },
      "execution_count": null,
      "outputs": [
        {
          "output_type": "stream",
          "name": "stdout",
          "text": [
            "Looking in indexes: https://pypi.org/simple, https://us-python.pkg.dev/colab-wheels/public/simple/\n",
            "Collecting kaleido\n",
            "  Downloading kaleido-0.2.1-py2.py3-none-manylinux1_x86_64.whl (79.9 MB)\n",
            "\u001b[K     |████████████████████████████████| 79.9 MB 1.2 MB/s \n",
            "\u001b[?25hInstalling collected packages: kaleido\n",
            "Successfully installed kaleido-0.2.1\n"
          ]
        }
      ]
    },
    {
      "cell_type": "code",
      "execution_count": null,
      "metadata": {
        "id": "xGt_-f-PraAE"
      },
      "outputs": [],
      "source": [
        "import joblib\n",
        "import numpy as np\n",
        "import pandas as pd"
      ]
    },
    {
      "cell_type": "code",
      "source": [
        "! unzip /content/models.zip"
      ],
      "metadata": {
        "id": "Br08b3Nsr4TA",
        "colab": {
          "base_uri": "https://localhost:8080/"
        },
        "outputId": "75c82e1c-f132-4c35-890e-bb26917f49be"
      },
      "execution_count": null,
      "outputs": [
        {
          "output_type": "stream",
          "name": "stdout",
          "text": [
            "Archive:  /content/models.zip\n",
            "   creating: content/models/\n",
            "  inflating: content/models/model 151  \n",
            "  inflating: content/models/model 33  \n",
            "  inflating: content/models/model 150  \n",
            "  inflating: content/models/model 77  \n",
            "  inflating: content/models/model 143  \n",
            "  inflating: content/models/model 116  \n",
            "  inflating: content/models/model 72  \n",
            "  inflating: content/models/model 152  \n",
            "  inflating: content/models/model 79  \n",
            "  inflating: content/models/model 68  \n",
            "  inflating: content/models/model 153  \n",
            "  inflating: content/models/model 82  \n",
            "  inflating: content/models/model 66  \n",
            "  inflating: content/models/model 58  \n",
            "  inflating: content/models/model 42  \n",
            "  inflating: content/models/model 107  \n",
            "  inflating: content/models/model 15  \n",
            "  inflating: content/models/model 73  \n",
            "  inflating: content/models/model 11  \n",
            "  inflating: content/models/model 45  \n",
            "  inflating: content/models/model 8  \n",
            "  inflating: content/models/model 76  \n",
            "  inflating: content/models/model 128  \n",
            "  inflating: content/models/model 109  \n",
            "  inflating: content/models/model 3  \n",
            "  inflating: content/models/model 133  \n",
            "  inflating: content/models/model 20  \n",
            "  inflating: content/models/model 12  \n",
            "  inflating: content/models/model 145  \n",
            "  inflating: content/models/model 49  \n",
            "  inflating: content/models/model 60  \n",
            "  inflating: content/models/model 97  \n",
            "  inflating: content/models/model 10  \n",
            "  inflating: content/models/model 110  \n",
            "  inflating: content/models/model 14  \n",
            "  inflating: content/models/model 5  \n",
            "  inflating: content/models/model 149  \n",
            "  inflating: content/models/model 48  \n",
            "  inflating: content/models/model 138  \n",
            "  inflating: content/models/model 127  \n",
            "  inflating: content/models/model 57  \n",
            "  inflating: content/models/model 32  \n",
            "  inflating: content/models/model 78  \n",
            "  inflating: content/models/model 6  \n",
            "  inflating: content/models/model 59  \n",
            "  inflating: content/models/model 140  \n",
            "  inflating: content/models/model 85  \n",
            "  inflating: content/models/model 147  \n",
            "  inflating: content/models/model 63  \n",
            "  inflating: content/models/model 98  \n",
            "  inflating: content/models/model 38  \n",
            "  inflating: content/models/model 94  \n",
            "  inflating: content/models/model 19  \n",
            "  inflating: content/models/model 113  \n",
            "  inflating: content/models/model 100  \n",
            "  inflating: content/models/model 2  \n",
            "  inflating: content/models/model 118  \n",
            "  inflating: content/models/model 89  \n",
            "  inflating: content/models/model 65  \n",
            "  inflating: content/models/model 28  \n",
            "  inflating: content/models/model 90  \n",
            "  inflating: content/models/model 137  \n",
            "  inflating: content/models/model 119  \n",
            "  inflating: content/models/model 130  \n",
            "  inflating: content/models/model 144  \n",
            "  inflating: content/models/model 56  \n",
            "  inflating: content/models/model 27  \n",
            "  inflating: content/models/model 146  \n",
            "  inflating: content/models/model 51  \n",
            "  inflating: content/models/model 69  \n",
            "  inflating: content/models/model 24  \n",
            "  inflating: content/models/model 108  \n",
            "  inflating: content/models/model 64  \n",
            "  inflating: content/models/model 74  \n",
            "  inflating: content/models/model 4  \n",
            "  inflating: content/models/model 75  \n",
            "  inflating: content/models/model 106  \n",
            "  inflating: content/models/model 46  \n",
            "  inflating: content/models/model 13  \n",
            "  inflating: content/models/model 37  \n",
            "  inflating: content/models/model 30  \n",
            "  inflating: content/models/model 142  \n",
            "  inflating: content/models/model 103  \n",
            "  inflating: content/models/model 62  \n",
            "  inflating: content/models/model 53  \n",
            "  inflating: content/models/model 93  \n",
            "  inflating: content/models/model 0  \n",
            "  inflating: content/models/model 61  \n",
            "  inflating: content/models/model 29  \n",
            "  inflating: content/models/model 92  \n",
            "  inflating: content/models/model 17  \n",
            "  inflating: content/models/model 50  \n",
            "  inflating: content/models/model 134  \n",
            "  inflating: content/models/model 95  \n",
            "  inflating: content/models/model 40  \n",
            "  inflating: content/models/model 141  \n",
            "  inflating: content/models/model 99  \n",
            "  inflating: content/models/model 117  \n",
            "  inflating: content/models/model 115  \n",
            "  inflating: content/models/model 105  \n",
            "  inflating: content/models/model 87  \n",
            "  inflating: content/models/model 148  \n",
            "  inflating: content/models/model 55  \n",
            "  inflating: content/models/model 43  \n",
            "  inflating: content/models/model 114  \n",
            "  inflating: content/models/model 111  \n",
            "  inflating: content/models/model 18  \n",
            "  inflating: content/models/model 120  \n",
            "  inflating: content/models/model 23  \n",
            "  inflating: content/models/model 139  \n",
            "  inflating: content/models/model 125  \n",
            "  inflating: content/models/model 83  \n",
            "  inflating: content/models/model 104  \n",
            "  inflating: content/models/model 135  \n",
            "  inflating: content/models/model 122  \n",
            "  inflating: content/models/model 21  \n",
            "  inflating: content/models/model 41  \n",
            "  inflating: content/models/model 9  \n",
            "  inflating: content/models/model 7  \n",
            "  inflating: content/models/model 16  \n",
            "  inflating: content/models/model 102  \n",
            "  inflating: content/models/model 86  \n",
            "  inflating: content/models/model 54  \n",
            "  inflating: content/models/model 80  \n",
            "  inflating: content/models/model 39  \n",
            "  inflating: content/models/model 70  \n",
            "  inflating: content/models/model 88  \n",
            "  inflating: content/models/model 136  \n",
            "  inflating: content/models/model 129  \n",
            "  inflating: content/models/model 96  \n",
            "  inflating: content/models/model 47  \n",
            "  inflating: content/models/model 44  \n",
            "  inflating: content/models/model 124  \n",
            "  inflating: content/models/model 131  \n",
            "  inflating: content/models/model 112  \n",
            "  inflating: content/models/model 26  \n",
            "  inflating: content/models/model 25  \n",
            "  inflating: content/models/model 31  \n",
            "  inflating: content/models/model 132  \n",
            "  inflating: content/models/model 123  \n",
            "  inflating: content/models/model 91  \n",
            "  inflating: content/models/model 52  \n",
            "  inflating: content/models/model 67  \n",
            "  inflating: content/models/model 84  \n",
            "  inflating: content/models/model 101  \n",
            "  inflating: content/models/model 81  \n",
            "  inflating: content/models/model 36  \n",
            "  inflating: content/models/model 1  \n",
            "  inflating: content/models/model 34  \n",
            "  inflating: content/models/model 35  \n",
            "  inflating: content/models/model 126  \n",
            "  inflating: content/models/model 121  \n",
            "  inflating: content/models/model 22  \n",
            "  inflating: content/models/model 71  \n"
          ]
        }
      ]
    },
    {
      "cell_type": "code",
      "source": [
        "df=pd.read_excel('data_big.xlsx',sheet_name='Sheet2')\n",
        "df=df.drop(['source','ACH_jendela','ACH_fan','ACH_total'],axis=1)\n",
        "df.head()"
      ],
      "metadata": {
        "colab": {
          "base_uri": "https://localhost:8080/",
          "height": 305
        },
        "id": "qFb7GC43tRwW",
        "outputId": "41b81a3b-6860-4877-855b-775fb916ab19"
      },
      "execution_count": null,
      "outputs": [
        {
          "output_type": "execute_result",
          "data": {
            "text/plain": [
              "   koor_x  koor_y  koor_z        Vx        Vy        Vz       Temp  Jendela  \\\n",
              "0       1       6      18  0.003601 -0.061728  0.013407  27.235806        0   \n",
              "1       1      16      18  0.003154 -0.069276  0.003700  27.362558        0   \n",
              "2       1      30      18  0.002399 -0.073255 -0.000751  27.417225        0   \n",
              "3       1      45      18  0.002273 -0.074632 -0.001710  27.410238        0   \n",
              "4       1      63      18  0.002269 -0.075449 -0.001600  27.366829        0   \n",
              "\n",
              "   AC  sudut angin  Nilai Kecepatan Angin  Dry Bulb Temperature  Fan 1  Fan 2  \\\n",
              "0   0          171                    0.5                  27.0      0      0   \n",
              "1   0          171                    0.5                  27.0      0      0   \n",
              "2   0          171                    0.5                  27.0      0      0   \n",
              "3   0          171                    0.5                  27.0      0      0   \n",
              "4   0          171                    0.5                  27.0      0      0   \n",
              "\n",
              "   Fan 3  \n",
              "0      0  \n",
              "1      0  \n",
              "2      0  \n",
              "3      0  \n",
              "4      0  "
            ],
            "text/html": [
              "\n",
              "  <div id=\"df-b9c861cf-5e64-4acf-a6c8-d7ad8e470a3f\">\n",
              "    <div class=\"colab-df-container\">\n",
              "      <div>\n",
              "<style scoped>\n",
              "    .dataframe tbody tr th:only-of-type {\n",
              "        vertical-align: middle;\n",
              "    }\n",
              "\n",
              "    .dataframe tbody tr th {\n",
              "        vertical-align: top;\n",
              "    }\n",
              "\n",
              "    .dataframe thead th {\n",
              "        text-align: right;\n",
              "    }\n",
              "</style>\n",
              "<table border=\"1\" class=\"dataframe\">\n",
              "  <thead>\n",
              "    <tr style=\"text-align: right;\">\n",
              "      <th></th>\n",
              "      <th>koor_x</th>\n",
              "      <th>koor_y</th>\n",
              "      <th>koor_z</th>\n",
              "      <th>Vx</th>\n",
              "      <th>Vy</th>\n",
              "      <th>Vz</th>\n",
              "      <th>Temp</th>\n",
              "      <th>Jendela</th>\n",
              "      <th>AC</th>\n",
              "      <th>sudut angin</th>\n",
              "      <th>Nilai Kecepatan Angin</th>\n",
              "      <th>Dry Bulb Temperature</th>\n",
              "      <th>Fan 1</th>\n",
              "      <th>Fan 2</th>\n",
              "      <th>Fan 3</th>\n",
              "    </tr>\n",
              "  </thead>\n",
              "  <tbody>\n",
              "    <tr>\n",
              "      <th>0</th>\n",
              "      <td>1</td>\n",
              "      <td>6</td>\n",
              "      <td>18</td>\n",
              "      <td>0.003601</td>\n",
              "      <td>-0.061728</td>\n",
              "      <td>0.013407</td>\n",
              "      <td>27.235806</td>\n",
              "      <td>0</td>\n",
              "      <td>0</td>\n",
              "      <td>171</td>\n",
              "      <td>0.5</td>\n",
              "      <td>27.0</td>\n",
              "      <td>0</td>\n",
              "      <td>0</td>\n",
              "      <td>0</td>\n",
              "    </tr>\n",
              "    <tr>\n",
              "      <th>1</th>\n",
              "      <td>1</td>\n",
              "      <td>16</td>\n",
              "      <td>18</td>\n",
              "      <td>0.003154</td>\n",
              "      <td>-0.069276</td>\n",
              "      <td>0.003700</td>\n",
              "      <td>27.362558</td>\n",
              "      <td>0</td>\n",
              "      <td>0</td>\n",
              "      <td>171</td>\n",
              "      <td>0.5</td>\n",
              "      <td>27.0</td>\n",
              "      <td>0</td>\n",
              "      <td>0</td>\n",
              "      <td>0</td>\n",
              "    </tr>\n",
              "    <tr>\n",
              "      <th>2</th>\n",
              "      <td>1</td>\n",
              "      <td>30</td>\n",
              "      <td>18</td>\n",
              "      <td>0.002399</td>\n",
              "      <td>-0.073255</td>\n",
              "      <td>-0.000751</td>\n",
              "      <td>27.417225</td>\n",
              "      <td>0</td>\n",
              "      <td>0</td>\n",
              "      <td>171</td>\n",
              "      <td>0.5</td>\n",
              "      <td>27.0</td>\n",
              "      <td>0</td>\n",
              "      <td>0</td>\n",
              "      <td>0</td>\n",
              "    </tr>\n",
              "    <tr>\n",
              "      <th>3</th>\n",
              "      <td>1</td>\n",
              "      <td>45</td>\n",
              "      <td>18</td>\n",
              "      <td>0.002273</td>\n",
              "      <td>-0.074632</td>\n",
              "      <td>-0.001710</td>\n",
              "      <td>27.410238</td>\n",
              "      <td>0</td>\n",
              "      <td>0</td>\n",
              "      <td>171</td>\n",
              "      <td>0.5</td>\n",
              "      <td>27.0</td>\n",
              "      <td>0</td>\n",
              "      <td>0</td>\n",
              "      <td>0</td>\n",
              "    </tr>\n",
              "    <tr>\n",
              "      <th>4</th>\n",
              "      <td>1</td>\n",
              "      <td>63</td>\n",
              "      <td>18</td>\n",
              "      <td>0.002269</td>\n",
              "      <td>-0.075449</td>\n",
              "      <td>-0.001600</td>\n",
              "      <td>27.366829</td>\n",
              "      <td>0</td>\n",
              "      <td>0</td>\n",
              "      <td>171</td>\n",
              "      <td>0.5</td>\n",
              "      <td>27.0</td>\n",
              "      <td>0</td>\n",
              "      <td>0</td>\n",
              "      <td>0</td>\n",
              "    </tr>\n",
              "  </tbody>\n",
              "</table>\n",
              "</div>\n",
              "      <button class=\"colab-df-convert\" onclick=\"convertToInteractive('df-b9c861cf-5e64-4acf-a6c8-d7ad8e470a3f')\"\n",
              "              title=\"Convert this dataframe to an interactive table.\"\n",
              "              style=\"display:none;\">\n",
              "        \n",
              "  <svg xmlns=\"http://www.w3.org/2000/svg\" height=\"24px\"viewBox=\"0 0 24 24\"\n",
              "       width=\"24px\">\n",
              "    <path d=\"M0 0h24v24H0V0z\" fill=\"none\"/>\n",
              "    <path d=\"M18.56 5.44l.94 2.06.94-2.06 2.06-.94-2.06-.94-.94-2.06-.94 2.06-2.06.94zm-11 1L8.5 8.5l.94-2.06 2.06-.94-2.06-.94L8.5 2.5l-.94 2.06-2.06.94zm10 10l.94 2.06.94-2.06 2.06-.94-2.06-.94-.94-2.06-.94 2.06-2.06.94z\"/><path d=\"M17.41 7.96l-1.37-1.37c-.4-.4-.92-.59-1.43-.59-.52 0-1.04.2-1.43.59L10.3 9.45l-7.72 7.72c-.78.78-.78 2.05 0 2.83L4 21.41c.39.39.9.59 1.41.59.51 0 1.02-.2 1.41-.59l7.78-7.78 2.81-2.81c.8-.78.8-2.07 0-2.86zM5.41 20L4 18.59l7.72-7.72 1.47 1.35L5.41 20z\"/>\n",
              "  </svg>\n",
              "      </button>\n",
              "      \n",
              "  <style>\n",
              "    .colab-df-container {\n",
              "      display:flex;\n",
              "      flex-wrap:wrap;\n",
              "      gap: 12px;\n",
              "    }\n",
              "\n",
              "    .colab-df-convert {\n",
              "      background-color: #E8F0FE;\n",
              "      border: none;\n",
              "      border-radius: 50%;\n",
              "      cursor: pointer;\n",
              "      display: none;\n",
              "      fill: #1967D2;\n",
              "      height: 32px;\n",
              "      padding: 0 0 0 0;\n",
              "      width: 32px;\n",
              "    }\n",
              "\n",
              "    .colab-df-convert:hover {\n",
              "      background-color: #E2EBFA;\n",
              "      box-shadow: 0px 1px 2px rgba(60, 64, 67, 0.3), 0px 1px 3px 1px rgba(60, 64, 67, 0.15);\n",
              "      fill: #174EA6;\n",
              "    }\n",
              "\n",
              "    [theme=dark] .colab-df-convert {\n",
              "      background-color: #3B4455;\n",
              "      fill: #D2E3FC;\n",
              "    }\n",
              "\n",
              "    [theme=dark] .colab-df-convert:hover {\n",
              "      background-color: #434B5C;\n",
              "      box-shadow: 0px 1px 3px 1px rgba(0, 0, 0, 0.15);\n",
              "      filter: drop-shadow(0px 1px 2px rgba(0, 0, 0, 0.3));\n",
              "      fill: #FFFFFF;\n",
              "    }\n",
              "  </style>\n",
              "\n",
              "      <script>\n",
              "        const buttonEl =\n",
              "          document.querySelector('#df-b9c861cf-5e64-4acf-a6c8-d7ad8e470a3f button.colab-df-convert');\n",
              "        buttonEl.style.display =\n",
              "          google.colab.kernel.accessAllowed ? 'block' : 'none';\n",
              "\n",
              "        async function convertToInteractive(key) {\n",
              "          const element = document.querySelector('#df-b9c861cf-5e64-4acf-a6c8-d7ad8e470a3f');\n",
              "          const dataTable =\n",
              "            await google.colab.kernel.invokeFunction('convertToInteractive',\n",
              "                                                     [key], {});\n",
              "          if (!dataTable) return;\n",
              "\n",
              "          const docLinkHtml = 'Like what you see? Visit the ' +\n",
              "            '<a target=\"_blank\" href=https://colab.research.google.com/notebooks/data_table.ipynb>data table notebook</a>'\n",
              "            + ' to learn more about interactive tables.';\n",
              "          element.innerHTML = '';\n",
              "          dataTable['output_type'] = 'display_data';\n",
              "          await google.colab.output.renderOutput(dataTable, element);\n",
              "          const docLink = document.createElement('div');\n",
              "          docLink.innerHTML = docLinkHtml;\n",
              "          element.appendChild(docLink);\n",
              "        }\n",
              "      </script>\n",
              "    </div>\n",
              "  </div>\n",
              "  "
            ]
          },
          "metadata": {},
          "execution_count": 4
        }
      ]
    },
    {
      "cell_type": "code",
      "source": [
        "array_x = []\n",
        "\n",
        "for i in range(154):\n",
        "  frame= df[i::154]\n",
        "  frame = frame.drop(['koor_x','koor_y','koor_z'],axis=1)\n",
        "  frame = frame.drop(['Vx','Vy','Vz','Temp'],axis=1)\n",
        "  array_x.append(frame)"
      ],
      "metadata": {
        "id": "EyJosURjtf9K"
      },
      "execution_count": null,
      "outputs": []
    },
    {
      "cell_type": "code",
      "source": [
        "array_y = []\n",
        "\n",
        "for i in range(154):\n",
        "  frame= df[i::154]\n",
        "  frame = frame.drop(['koor_x','koor_y','koor_z',],axis=1)\n",
        "  frame = frame.drop(['Jendela','AC','sudut angin','Nilai Kecepatan Angin','Dry Bulb Temperature','Fan 1','Fan 2','Fan 3'],axis=1)\n",
        "  array_y.append(frame)"
      ],
      "metadata": {
        "id": "UGwAUTHWtneh"
      },
      "execution_count": null,
      "outputs": []
    },
    {
      "cell_type": "code",
      "source": [
        "from sklearn.model_selection import train_test_split\n",
        "from sklearn.metrics import r2_score as r2\n",
        "from sklearn.metrics import mean_squared_error as mse\n",
        "from sklearn.metrics import mean_absolute_error as mae\n",
        "\n",
        "skor_r2=[]\n",
        "mae_=[]\n",
        "rmse = []\n",
        "y_predict = []\n",
        "for i in range(154):\n",
        "  x = array_x[i]\n",
        "  y = array_y[i]\n",
        "  model = joblib.load(f'/content/content/models/model {i}')\n",
        "  y_pred = model.predict(x)\n",
        "  Skor_r2 = r2(y,y_pred)\n",
        "  RMSE = mse(y,y_pred,squared=False)\n",
        "  MAE = mae(y,y_pred)\n",
        "  y_predict.append(y_pred)\n",
        "  skor_r2.append(Skor_r2)\n",
        "  mae_.append(MAE)\n",
        "  rmse.append(RMSE)"
      ],
      "metadata": {
        "id": "HmBMW6_Urv3J"
      },
      "execution_count": null,
      "outputs": []
    },
    {
      "cell_type": "code",
      "source": [
        "skor_r2 = np.array(skor_r2)\n",
        "rmse = np.array(rmse)\n",
        "mae_=np.array(mae_)\n",
        "y_predict = np.array(y_predict)\n",
        "y = np.array(array_y)"
      ],
      "metadata": {
        "id": "mV-AzV34upp1"
      },
      "execution_count": null,
      "outputs": []
    },
    {
      "cell_type": "code",
      "source": [
        "r2_matrix = skor_r2.reshape(11,14)\n",
        "rmse_matrix = rmse.reshape(11,14)\n",
        "mae_matrix = mae_.reshape(11,14)"
      ],
      "metadata": {
        "id": "qkHoymilvAhK"
      },
      "execution_count": null,
      "outputs": []
    },
    {
      "cell_type": "code",
      "source": [
        "import numpy as np\n",
        "import seaborn as sns\n",
        "import matplotlib.pylab as plt\n",
        "\n",
        "ax = sns.heatmap(r2_matrix, linewidth=0.5, cmap=\"RdYlBu\")\n",
        "plt.show()"
      ],
      "metadata": {
        "colab": {
          "base_uri": "https://localhost:8080/",
          "height": 265
        },
        "id": "9hNM2VpnvFPI",
        "outputId": "f97c0402-db91-4465-c860-6711e718d55a"
      },
      "execution_count": null,
      "outputs": [
        {
          "output_type": "display_data",
          "data": {
            "text/plain": [
              "<Figure size 432x288 with 2 Axes>"
            ],
            "image/png": "[encoded data removed]"
          },
          "metadata": {
            "needs_background": "light"
          }
        }
      ]
    },
    {
      "cell_type": "code",
      "source": [
        "bx = sns.heatmap(rmse_matrix, linewidth=0.5, cmap=\"RdYlBu_r\")\n",
        "plt.show()"
      ],
      "metadata": {
        "colab": {
          "base_uri": "https://localhost:8080/",
          "height": 265
        },
        "id": "oTP-Q2rTvL3t",
        "outputId": "6d83129a-0529-4f42-97f5-ee046ef5e246"
      },
      "execution_count": null,
      "outputs": [
        {
          "output_type": "display_data",
          "data": {
            "text/plain": [
              "<Figure size 432x288 with 2 Axes>"
            ],
            "image/png": "[encoded data removed]"
          },
          "metadata": {
            "needs_background": "light"
          }
        }
      ]
    },
    {
      "cell_type": "code",
      "source": [
        "bx = sns.heatmap(mae_matrix, linewidth=0.5, cmap=\"RdYlBu_r\")\n",
        "plt.show()"
      ],
      "metadata": {
        "colab": {
          "base_uri": "https://localhost:8080/",
          "height": 265
        },
        "id": "QCuqpds4vQh9",
        "outputId": "099a6a6c-86bc-4ec9-831e-74cc03a8aa00"
      },
      "execution_count": null,
      "outputs": [
        {
          "output_type": "display_data",
          "data": {
            "text/plain": [
              "<Figure size 432x288 with 2 Axes>"
            ],
            "image/png": "[encoded data removed]"
          },
          "metadata": {
            "needs_background": "light"
          }
        }
      ]
    },
    {
      "cell_type": "code",
      "source": [
        "scenarios = 15   #0-28\n",
        "indexing = 3    #0-3"
      ],
      "metadata": {
        "id": "dwK5--J3vU_k"
      },
      "execution_count": 55,
      "outputs": []
    },
    {
      "cell_type": "code",
      "source": [
        "a = y[(...,scenarios,indexing)]\n",
        "b = y_predict[(...,scenarios,indexing)]\n",
        "#a = np.array(a)\n",
        "#b = np.array(b)\n",
        "print('reshaped')"
      ],
      "metadata": {
        "colab": {
          "base_uri": "https://localhost:8080/"
        },
        "id": "Auio_4zsves7",
        "outputId": "1365fc9c-0a27-400e-f41d-edf71a57e9ba"
      },
      "execution_count": 56,
      "outputs": [
        {
          "output_type": "stream",
          "name": "stdout",
          "text": [
            "reshaped\n"
          ]
        }
      ]
    },
    {
      "cell_type": "code",
      "source": [
        "df_koor_x = pd.DataFrame(df['koor_x'])\n",
        "df_koor_y = pd.DataFrame(df['koor_y'])\n",
        "df_koor_z = pd.DataFrame(df['koor_z'])\n",
        "df_koor = df_koor_x.join(df_koor_y)\n",
        "df_koor = df_koor.join(df_koor_z)"
      ],
      "metadata": {
        "id": "KYpbEhch5ZZf"
      },
      "execution_count": null,
      "outputs": []
    },
    {
      "cell_type": "code",
      "source": [
        "def suhu(y):\n",
        "  df_y = pd.DataFrame(y)\n",
        "  df_z = pd.DataFrame(y)\n",
        "  df_z.rename(columns={0:1},inplace=True)\n",
        "  df_y = df_y.join(df_z)\n",
        "  df_y = df_y.join(df_koor)\n",
        "  df_y.rename(columns={0:'Vx',1:'suhu'},inplace=True)\n",
        "  df_y.pop('Vx')\n",
        "  return df_y"
      ],
      "metadata": {
        "id": "PBDDzQDo6Dtf"
      },
      "execution_count": null,
      "outputs": []
    },
    {
      "cell_type": "code",
      "source": [
        "import plotly.graph_objects as go\n",
        "def heatmap (a):\n",
        "  fig = go.Figure(data =\n",
        "    go.Contour(\n",
        "        z = a['suhu'].tolist(),\n",
        "        x = a['koor_x'].tolist(),\n",
        "        y = a['koor_y'].tolist()\n",
        "    ))\n",
        "  return fig"
      ],
      "metadata": {
        "id": "9zStAfQo6dK_"
      },
      "execution_count": null,
      "outputs": []
    },
    {
      "cell_type": "code",
      "source": [
        "! mkdir actual\n",
        "! mkdir predicted"
      ],
      "metadata": {
        "id": "KYkf0GQs-kJ8"
      },
      "execution_count": null,
      "outputs": []
    },
    {
      "cell_type": "code",
      "source": [
        "! mkdir subplot"
      ],
      "metadata": {
        "id": "5tpeKVHoK11i"
      },
      "execution_count": 68,
      "outputs": []
    },
    {
      "cell_type": "code",
      "source": [
        "from plotly.subplots import make_subplots\n",
        "for i in range(192):\n",
        "  a = y[(...,i,indexing)]\n",
        "  b = y_predict[(...,i,indexing)]\n",
        "  a = np.array(a)\n",
        "  b = np.array(b)\n",
        "  a = suhu(a)\n",
        "  b = suhu(b)\n",
        "  \n",
        "  fig = make_subplots(rows=1, cols=2)\n",
        "\n",
        "  fig.add_contour(\n",
        "     z = a['suhu'].tolist(),\n",
        "     x = a['koor_x'].tolist(),\n",
        "     y = a['koor_y'].tolist(),\n",
        "     row=1, col=1\n",
        "  )\n",
        "\n",
        "  fig.add_contour(\n",
        "     z = b['suhu'].tolist(),\n",
        "     x = b['koor_x'].tolist(),\n",
        "     y = b['koor_y'].tolist(),\n",
        "     row=1, col=2\n",
        "  )\n",
        "  fig.write_image(f'/content/subplot/fig {i}.png')"
      ],
      "metadata": {
        "id": "lBxXWv_P7c_D"
      },
      "execution_count": 72,
      "outputs": []
    },
    {
      "cell_type": "code",
      "source": [
        "!zip -r /content/subplot.zip /content/subplot"
      ],
      "metadata": {
        "id": "Runkh_7EL_Hk"
      },
      "execution_count": null,
      "outputs": []
    }
  ]
}