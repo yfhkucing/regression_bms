{
  "nbformat": 4,
  "nbformat_minor": 0,
  "metadata": {
    "colab": {
      "provenance": [],
      "collapsed_sections": [],
      "authorship_tag": "ABX9TyMHn6KQqbCVkOIWFlvbMGKS",
      "include_colab_link": true
    },
    "kernelspec": {
      "name": "python3",
      "display_name": "Python 3"
    },
    "language_info": {
      "name": "python"
    }
  },
  "cells": [
    {
      "cell_type": "markdown",
      "metadata": {
        "id": "view-in-github",
        "colab_type": "text"
      },
      "source": [
        "<a href=\"https://colab.research.google.com/github/yfhkucing/regression_bms/blob/master/data_reshape_and_training_temp.ipynb\" target=\"_parent\"><img src=\"https://colab.research.google.com/assets/colab-badge.svg\" alt=\"Open In Colab\"/></a>"
      ]
    },
    {
      "cell_type": "code",
      "execution_count": 645,
      "metadata": {
        "id": "bWIf7kUAYAD3"
      },
      "outputs": [],
      "source": [
        "import pandas as pd\n",
        "import numpy as np"
      ]
    },
    {
      "cell_type": "code",
      "source": [
        "df=pd.read_excel('data_big.xlsx',sheet_name='Sheet2')"
      ],
      "metadata": {
        "id": "dGyeF730YDkB"
      },
      "execution_count": 646,
      "outputs": []
    },
    {
      "cell_type": "code",
      "source": [
        "#df"
      ],
      "metadata": {
        "id": "z-wi_N_BYuEd"
      },
      "execution_count": 647,
      "outputs": []
    },
    {
      "cell_type": "code",
      "source": [
        "df=df.drop(['source','ACH_jendela','ACH_fan','ACH_total'],axis=1)\n",
        "#df=df.drop(['source'],axis=1)"
      ],
      "metadata": {
        "id": "EOSbxB7Col3W"
      },
      "execution_count": 648,
      "outputs": []
    },
    {
      "cell_type": "code",
      "source": [
        "#df=(df-df.min())/(df.max()-df.min())\n",
        "df.head()"
      ],
      "metadata": {
        "colab": {
          "base_uri": "https://localhost:8080/",
          "height": 285
        },
        "id": "iInsfNCpoomg",
        "outputId": "c7163835-a08b-4d89-befa-2fcab6e3dabc"
      },
      "execution_count": 649,
      "outputs": [
        {
          "output_type": "execute_result",
          "data": {
            "text/plain": [
              "   koor_x  koor_y  koor_z        Vx        Vy        Vz       Temp  Jendela  \\\n",
              "0       1       6      18  0.003601 -0.061728  0.013407  27.235806        0   \n",
              "1       1      16      18  0.003154 -0.069276  0.003700  27.362558        0   \n",
              "2       1      30      18  0.002399 -0.073255 -0.000751  27.417225        0   \n",
              "3       1      45      18  0.002273 -0.074632 -0.001710  27.410238        0   \n",
              "4       1      63      18  0.002269 -0.075449 -0.001600  27.366829        0   \n",
              "\n",
              "   AC  sudut angin  Nilai Kecepatan Angin  Dry Bulb Temperature  Fan 1  Fan 2  \\\n",
              "0   0          171                    0.5                  27.0      0      0   \n",
              "1   0          171                    0.5                  27.0      0      0   \n",
              "2   0          171                    0.5                  27.0      0      0   \n",
              "3   0          171                    0.5                  27.0      0      0   \n",
              "4   0          171                    0.5                  27.0      0      0   \n",
              "\n",
              "   Fan 3  \n",
              "0      0  \n",
              "1      0  \n",
              "2      0  \n",
              "3      0  \n",
              "4      0  "
            ],
            "text/html": [
              "\n",
              "  <div id=\"df-531a2c68-e73c-4040-95e7-a29709a5f110\">\n",
              "    <div class=\"colab-df-container\">\n",
              "      <div>\n",
              "<style scoped>\n",
              "    .dataframe tbody tr th:only-of-type {\n",
              "        vertical-align: middle;\n",
              "    }\n",
              "\n",
              "    .dataframe tbody tr th {\n",
              "        vertical-align: top;\n",
              "    }\n",
              "\n",
              "    .dataframe thead th {\n",
              "        text-align: right;\n",
              "    }\n",
              "</style>\n",
              "<table border=\"1\" class=\"dataframe\">\n",
              "  <thead>\n",
              "    <tr style=\"text-align: right;\">\n",
              "      <th></th>\n",
              "      <th>koor_x</th>\n",
              "      <th>koor_y</th>\n",
              "      <th>koor_z</th>\n",
              "      <th>Vx</th>\n",
              "      <th>Vy</th>\n",
              "      <th>Vz</th>\n",
              "      <th>Temp</th>\n",
              "      <th>Jendela</th>\n",
              "      <th>AC</th>\n",
              "      <th>sudut angin</th>\n",
              "      <th>Nilai Kecepatan Angin</th>\n",
              "      <th>Dry Bulb Temperature</th>\n",
              "      <th>Fan 1</th>\n",
              "      <th>Fan 2</th>\n",
              "      <th>Fan 3</th>\n",
              "    </tr>\n",
              "  </thead>\n",
              "  <tbody>\n",
              "    <tr>\n",
              "      <th>0</th>\n",
              "      <td>1</td>\n",
              "      <td>6</td>\n",
              "      <td>18</td>\n",
              "      <td>0.003601</td>\n",
              "      <td>-0.061728</td>\n",
              "      <td>0.013407</td>\n",
              "      <td>27.235806</td>\n",
              "      <td>0</td>\n",
              "      <td>0</td>\n",
              "      <td>171</td>\n",
              "      <td>0.5</td>\n",
              "      <td>27.0</td>\n",
              "      <td>0</td>\n",
              "      <td>0</td>\n",
              "      <td>0</td>\n",
              "    </tr>\n",
              "    <tr>\n",
              "      <th>1</th>\n",
              "      <td>1</td>\n",
              "      <td>16</td>\n",
              "      <td>18</td>\n",
              "      <td>0.003154</td>\n",
              "      <td>-0.069276</td>\n",
              "      <td>0.003700</td>\n",
              "      <td>27.362558</td>\n",
              "      <td>0</td>\n",
              "      <td>0</td>\n",
              "      <td>171</td>\n",
              "      <td>0.5</td>\n",
              "      <td>27.0</td>\n",
              "      <td>0</td>\n",
              "      <td>0</td>\n",
              "      <td>0</td>\n",
              "    </tr>\n",
              "    <tr>\n",
              "      <th>2</th>\n",
              "      <td>1</td>\n",
              "      <td>30</td>\n",
              "      <td>18</td>\n",
              "      <td>0.002399</td>\n",
              "      <td>-0.073255</td>\n",
              "      <td>-0.000751</td>\n",
              "      <td>27.417225</td>\n",
              "      <td>0</td>\n",
              "      <td>0</td>\n",
              "      <td>171</td>\n",
              "      <td>0.5</td>\n",
              "      <td>27.0</td>\n",
              "      <td>0</td>\n",
              "      <td>0</td>\n",
              "      <td>0</td>\n",
              "    </tr>\n",
              "    <tr>\n",
              "      <th>3</th>\n",
              "      <td>1</td>\n",
              "      <td>45</td>\n",
              "      <td>18</td>\n",
              "      <td>0.002273</td>\n",
              "      <td>-0.074632</td>\n",
              "      <td>-0.001710</td>\n",
              "      <td>27.410238</td>\n",
              "      <td>0</td>\n",
              "      <td>0</td>\n",
              "      <td>171</td>\n",
              "      <td>0.5</td>\n",
              "      <td>27.0</td>\n",
              "      <td>0</td>\n",
              "      <td>0</td>\n",
              "      <td>0</td>\n",
              "    </tr>\n",
              "    <tr>\n",
              "      <th>4</th>\n",
              "      <td>1</td>\n",
              "      <td>63</td>\n",
              "      <td>18</td>\n",
              "      <td>0.002269</td>\n",
              "      <td>-0.075449</td>\n",
              "      <td>-0.001600</td>\n",
              "      <td>27.366829</td>\n",
              "      <td>0</td>\n",
              "      <td>0</td>\n",
              "      <td>171</td>\n",
              "      <td>0.5</td>\n",
              "      <td>27.0</td>\n",
              "      <td>0</td>\n",
              "      <td>0</td>\n",
              "      <td>0</td>\n",
              "    </tr>\n",
              "  </tbody>\n",
              "</table>\n",
              "</div>\n",
              "      <button class=\"colab-df-convert\" onclick=\"convertToInteractive('df-531a2c68-e73c-4040-95e7-a29709a5f110')\"\n",
              "              title=\"Convert this dataframe to an interactive table.\"\n",
              "              style=\"display:none;\">\n",
              "        \n",
              "  <svg xmlns=\"http://www.w3.org/2000/svg\" height=\"24px\"viewBox=\"0 0 24 24\"\n",
              "       width=\"24px\">\n",
              "    <path d=\"M0 0h24v24H0V0z\" fill=\"none\"/>\n",
              "    <path d=\"M18.56 5.44l.94 2.06.94-2.06 2.06-.94-2.06-.94-.94-2.06-.94 2.06-2.06.94zm-11 1L8.5 8.5l.94-2.06 2.06-.94-2.06-.94L8.5 2.5l-.94 2.06-2.06.94zm10 10l.94 2.06.94-2.06 2.06-.94-2.06-.94-.94-2.06-.94 2.06-2.06.94z\"/><path d=\"M17.41 7.96l-1.37-1.37c-.4-.4-.92-.59-1.43-.59-.52 0-1.04.2-1.43.59L10.3 9.45l-7.72 7.72c-.78.78-.78 2.05 0 2.83L4 21.41c.39.39.9.59 1.41.59.51 0 1.02-.2 1.41-.59l7.78-7.78 2.81-2.81c.8-.78.8-2.07 0-2.86zM5.41 20L4 18.59l7.72-7.72 1.47 1.35L5.41 20z\"/>\n",
              "  </svg>\n",
              "      </button>\n",
              "      \n",
              "  <style>\n",
              "    .colab-df-container {\n",
              "      display:flex;\n",
              "      flex-wrap:wrap;\n",
              "      gap: 12px;\n",
              "    }\n",
              "\n",
              "    .colab-df-convert {\n",
              "      background-color: #E8F0FE;\n",
              "      border: none;\n",
              "      border-radius: 50%;\n",
              "      cursor: pointer;\n",
              "      display: none;\n",
              "      fill: #1967D2;\n",
              "      height: 32px;\n",
              "      padding: 0 0 0 0;\n",
              "      width: 32px;\n",
              "    }\n",
              "\n",
              "    .colab-df-convert:hover {\n",
              "      background-color: #E2EBFA;\n",
              "      box-shadow: 0px 1px 2px rgba(60, 64, 67, 0.3), 0px 1px 3px 1px rgba(60, 64, 67, 0.15);\n",
              "      fill: #174EA6;\n",
              "    }\n",
              "\n",
              "    [theme=dark] .colab-df-convert {\n",
              "      background-color: #3B4455;\n",
              "      fill: #D2E3FC;\n",
              "    }\n",
              "\n",
              "    [theme=dark] .colab-df-convert:hover {\n",
              "      background-color: #434B5C;\n",
              "      box-shadow: 0px 1px 3px 1px rgba(0, 0, 0, 0.15);\n",
              "      filter: drop-shadow(0px 1px 2px rgba(0, 0, 0, 0.3));\n",
              "      fill: #FFFFFF;\n",
              "    }\n",
              "  </style>\n",
              "\n",
              "      <script>\n",
              "        const buttonEl =\n",
              "          document.querySelector('#df-531a2c68-e73c-4040-95e7-a29709a5f110 button.colab-df-convert');\n",
              "        buttonEl.style.display =\n",
              "          google.colab.kernel.accessAllowed ? 'block' : 'none';\n",
              "\n",
              "        async function convertToInteractive(key) {\n",
              "          const element = document.querySelector('#df-531a2c68-e73c-4040-95e7-a29709a5f110');\n",
              "          const dataTable =\n",
              "            await google.colab.kernel.invokeFunction('convertToInteractive',\n",
              "                                                     [key], {});\n",
              "          if (!dataTable) return;\n",
              "\n",
              "          const docLinkHtml = 'Like what you see? Visit the ' +\n",
              "            '<a target=\"_blank\" href=https://colab.research.google.com/notebooks/data_table.ipynb>data table notebook</a>'\n",
              "            + ' to learn more about interactive tables.';\n",
              "          element.innerHTML = '';\n",
              "          dataTable['output_type'] = 'display_data';\n",
              "          await google.colab.output.renderOutput(dataTable, element);\n",
              "          const docLink = document.createElement('div');\n",
              "          docLink.innerHTML = docLinkHtml;\n",
              "          element.appendChild(docLink);\n",
              "        }\n",
              "      </script>\n",
              "    </div>\n",
              "  </div>\n",
              "  "
            ]
          },
          "metadata": {},
          "execution_count": 649
        }
      ]
    },
    {
      "cell_type": "code",
      "source": [
        "array_x = []\n",
        "\n",
        "for i in range(154):\n",
        "  frame= df[i::154]\n",
        "  frame = frame.drop(['koor_x','koor_y','koor_z'],axis=1)\n",
        "  #frame = frame.drop(['Vx','Vy','Vz','Temp'],axis=1)\n",
        "  frame = frame.drop(['Temp'],axis=1)\n",
        "  array_x.append(frame)"
      ],
      "metadata": {
        "id": "5Swl16OHZYh_"
      },
      "execution_count": 650,
      "outputs": []
    },
    {
      "cell_type": "code",
      "source": [
        "array_y = []\n",
        "\n",
        "for i in range(154):\n",
        "  frame= df[i::154]\n",
        "  frame = frame.drop(['koor_x','koor_y','koor_z',],axis=1)\n",
        "  #frame = frame.drop(['ACH_jendela','ACH_fan','ACH_total','Jendela','AC','sudut angin','Nilai Kecepatan Angin','Dry Bulb Temperature','Fan 1','Fan 2','Fan 3'],axis=1)\n",
        "  #frame = frame.drop(['Jendela','AC','sudut angin','Nilai Kecepatan Angin','Dry Bulb Temperature','Fan 1','Fan 2','Fan 3'],axis=1)\n",
        "  frame = frame.drop(['Vx','Vy','Vz','Jendela','AC','sudut angin','Nilai Kecepatan Angin','Dry Bulb Temperature','Fan 1','Fan 2','Fan 3'],axis=1)\n",
        "  array_y.append(frame)"
      ],
      "metadata": {
        "id": "7LxyQd6wkM0t"
      },
      "execution_count": 651,
      "outputs": []
    },
    {
      "cell_type": "code",
      "source": [
        "array_x[0]"
      ],
      "metadata": {
        "colab": {
          "base_uri": "https://localhost:8080/",
          "height": 467
        },
        "id": "T_HCH9ZrkOGy",
        "outputId": "74f89488-32d0-4f09-a6da-d57d56cc62a4"
      },
      "execution_count": 652,
      "outputs": [
        {
          "output_type": "execute_result",
          "data": {
            "text/plain": [
              "             Vx        Vy        Vz  Jendela  AC  sudut angin  \\\n",
              "0      0.003601 -0.061728  0.013407        0   0          171   \n",
              "154    0.003393 -0.062388  0.015493        0   0          153   \n",
              "308    0.003590 -0.064252  0.014671        0   0           47   \n",
              "462    0.003677 -0.063637  0.013459        0   0           62   \n",
              "616    0.003681 -0.063620  0.013462        0   0          341   \n",
              "...         ...       ...       ...      ...  ..          ...   \n",
              "28798 -0.003949 -0.039876 -0.098939        1   1          163   \n",
              "28952 -0.006020 -0.052097 -0.063289        1   1          210   \n",
              "29106 -0.002757 -0.037269 -0.047457        1   1          247   \n",
              "29260 -0.004558 -0.042668 -0.059018        1   1          265   \n",
              "29414 -0.003980 -0.051274 -0.059570        1   1           64   \n",
              "\n",
              "       Nilai Kecepatan Angin  Dry Bulb Temperature  Fan 1  Fan 2  Fan 3  \n",
              "0                        0.5                  27.0      0      0      0  \n",
              "154                      0.4                  31.5      0      0      0  \n",
              "308                      4.8                  33.1      0      0      0  \n",
              "462                      4.1                  27.4      0      0      0  \n",
              "616                      3.8                  30.6      0      0      0  \n",
              "...                      ...                   ...    ...    ...    ...  \n",
              "28798                    0.9                  31.4      1      1      1  \n",
              "28952                    0.1                  31.3      1      1      1  \n",
              "29106                    0.3                  26.7      1      1      1  \n",
              "29260                    1.0                  28.1      1      1      1  \n",
              "29414                    0.2                  28.7      1      1      1  \n",
              "\n",
              "[192 rows x 11 columns]"
            ],
            "text/html": [
              "\n",
              "  <div id=\"df-5b25ee7a-4c4a-4c1e-b1a0-1db01d0b3c66\">\n",
              "    <div class=\"colab-df-container\">\n",
              "      <div>\n",
              "<style scoped>\n",
              "    .dataframe tbody tr th:only-of-type {\n",
              "        vertical-align: middle;\n",
              "    }\n",
              "\n",
              "    .dataframe tbody tr th {\n",
              "        vertical-align: top;\n",
              "    }\n",
              "\n",
              "    .dataframe thead th {\n",
              "        text-align: right;\n",
              "    }\n",
              "</style>\n",
              "<table border=\"1\" class=\"dataframe\">\n",
              "  <thead>\n",
              "    <tr style=\"text-align: right;\">\n",
              "      <th></th>\n",
              "      <th>Vx</th>\n",
              "      <th>Vy</th>\n",
              "      <th>Vz</th>\n",
              "      <th>Jendela</th>\n",
              "      <th>AC</th>\n",
              "      <th>sudut angin</th>\n",
              "      <th>Nilai Kecepatan Angin</th>\n",
              "      <th>Dry Bulb Temperature</th>\n",
              "      <th>Fan 1</th>\n",
              "      <th>Fan 2</th>\n",
              "      <th>Fan 3</th>\n",
              "    </tr>\n",
              "  </thead>\n",
              "  <tbody>\n",
              "    <tr>\n",
              "      <th>0</th>\n",
              "      <td>0.003601</td>\n",
              "      <td>-0.061728</td>\n",
              "      <td>0.013407</td>\n",
              "      <td>0</td>\n",
              "      <td>0</td>\n",
              "      <td>171</td>\n",
              "      <td>0.5</td>\n",
              "      <td>27.0</td>\n",
              "      <td>0</td>\n",
              "      <td>0</td>\n",
              "      <td>0</td>\n",
              "    </tr>\n",
              "    <tr>\n",
              "      <th>154</th>\n",
              "      <td>0.003393</td>\n",
              "      <td>-0.062388</td>\n",
              "      <td>0.015493</td>\n",
              "      <td>0</td>\n",
              "      <td>0</td>\n",
              "      <td>153</td>\n",
              "      <td>0.4</td>\n",
              "      <td>31.5</td>\n",
              "      <td>0</td>\n",
              "      <td>0</td>\n",
              "      <td>0</td>\n",
              "    </tr>\n",
              "    <tr>\n",
              "      <th>308</th>\n",
              "      <td>0.003590</td>\n",
              "      <td>-0.064252</td>\n",
              "      <td>0.014671</td>\n",
              "      <td>0</td>\n",
              "      <td>0</td>\n",
              "      <td>47</td>\n",
              "      <td>4.8</td>\n",
              "      <td>33.1</td>\n",
              "      <td>0</td>\n",
              "      <td>0</td>\n",
              "      <td>0</td>\n",
              "    </tr>\n",
              "    <tr>\n",
              "      <th>462</th>\n",
              "      <td>0.003677</td>\n",
              "      <td>-0.063637</td>\n",
              "      <td>0.013459</td>\n",
              "      <td>0</td>\n",
              "      <td>0</td>\n",
              "      <td>62</td>\n",
              "      <td>4.1</td>\n",
              "      <td>27.4</td>\n",
              "      <td>0</td>\n",
              "      <td>0</td>\n",
              "      <td>0</td>\n",
              "    </tr>\n",
              "    <tr>\n",
              "      <th>616</th>\n",
              "      <td>0.003681</td>\n",
              "      <td>-0.063620</td>\n",
              "      <td>0.013462</td>\n",
              "      <td>0</td>\n",
              "      <td>0</td>\n",
              "      <td>341</td>\n",
              "      <td>3.8</td>\n",
              "      <td>30.6</td>\n",
              "      <td>0</td>\n",
              "      <td>0</td>\n",
              "      <td>0</td>\n",
              "    </tr>\n",
              "    <tr>\n",
              "      <th>...</th>\n",
              "      <td>...</td>\n",
              "      <td>...</td>\n",
              "      <td>...</td>\n",
              "      <td>...</td>\n",
              "      <td>...</td>\n",
              "      <td>...</td>\n",
              "      <td>...</td>\n",
              "      <td>...</td>\n",
              "      <td>...</td>\n",
              "      <td>...</td>\n",
              "      <td>...</td>\n",
              "    </tr>\n",
              "    <tr>\n",
              "      <th>28798</th>\n",
              "      <td>-0.003949</td>\n",
              "      <td>-0.039876</td>\n",
              "      <td>-0.098939</td>\n",
              "      <td>1</td>\n",
              "      <td>1</td>\n",
              "      <td>163</td>\n",
              "      <td>0.9</td>\n",
              "      <td>31.4</td>\n",
              "      <td>1</td>\n",
              "      <td>1</td>\n",
              "      <td>1</td>\n",
              "    </tr>\n",
              "    <tr>\n",
              "      <th>28952</th>\n",
              "      <td>-0.006020</td>\n",
              "      <td>-0.052097</td>\n",
              "      <td>-0.063289</td>\n",
              "      <td>1</td>\n",
              "      <td>1</td>\n",
              "      <td>210</td>\n",
              "      <td>0.1</td>\n",
              "      <td>31.3</td>\n",
              "      <td>1</td>\n",
              "      <td>1</td>\n",
              "      <td>1</td>\n",
              "    </tr>\n",
              "    <tr>\n",
              "      <th>29106</th>\n",
              "      <td>-0.002757</td>\n",
              "      <td>-0.037269</td>\n",
              "      <td>-0.047457</td>\n",
              "      <td>1</td>\n",
              "      <td>1</td>\n",
              "      <td>247</td>\n",
              "      <td>0.3</td>\n",
              "      <td>26.7</td>\n",
              "      <td>1</td>\n",
              "      <td>1</td>\n",
              "      <td>1</td>\n",
              "    </tr>\n",
              "    <tr>\n",
              "      <th>29260</th>\n",
              "      <td>-0.004558</td>\n",
              "      <td>-0.042668</td>\n",
              "      <td>-0.059018</td>\n",
              "      <td>1</td>\n",
              "      <td>1</td>\n",
              "      <td>265</td>\n",
              "      <td>1.0</td>\n",
              "      <td>28.1</td>\n",
              "      <td>1</td>\n",
              "      <td>1</td>\n",
              "      <td>1</td>\n",
              "    </tr>\n",
              "    <tr>\n",
              "      <th>29414</th>\n",
              "      <td>-0.003980</td>\n",
              "      <td>-0.051274</td>\n",
              "      <td>-0.059570</td>\n",
              "      <td>1</td>\n",
              "      <td>1</td>\n",
              "      <td>64</td>\n",
              "      <td>0.2</td>\n",
              "      <td>28.7</td>\n",
              "      <td>1</td>\n",
              "      <td>1</td>\n",
              "      <td>1</td>\n",
              "    </tr>\n",
              "  </tbody>\n",
              "</table>\n",
              "<p>192 rows × 11 columns</p>\n",
              "</div>\n",
              "      <button class=\"colab-df-convert\" onclick=\"convertToInteractive('df-5b25ee7a-4c4a-4c1e-b1a0-1db01d0b3c66')\"\n",
              "              title=\"Convert this dataframe to an interactive table.\"\n",
              "              style=\"display:none;\">\n",
              "        \n",
              "  <svg xmlns=\"http://www.w3.org/2000/svg\" height=\"24px\"viewBox=\"0 0 24 24\"\n",
              "       width=\"24px\">\n",
              "    <path d=\"M0 0h24v24H0V0z\" fill=\"none\"/>\n",
              "    <path d=\"M18.56 5.44l.94 2.06.94-2.06 2.06-.94-2.06-.94-.94-2.06-.94 2.06-2.06.94zm-11 1L8.5 8.5l.94-2.06 2.06-.94-2.06-.94L8.5 2.5l-.94 2.06-2.06.94zm10 10l.94 2.06.94-2.06 2.06-.94-2.06-.94-.94-2.06-.94 2.06-2.06.94z\"/><path d=\"M17.41 7.96l-1.37-1.37c-.4-.4-.92-.59-1.43-.59-.52 0-1.04.2-1.43.59L10.3 9.45l-7.72 7.72c-.78.78-.78 2.05 0 2.83L4 21.41c.39.39.9.59 1.41.59.51 0 1.02-.2 1.41-.59l7.78-7.78 2.81-2.81c.8-.78.8-2.07 0-2.86zM5.41 20L4 18.59l7.72-7.72 1.47 1.35L5.41 20z\"/>\n",
              "  </svg>\n",
              "      </button>\n",
              "      \n",
              "  <style>\n",
              "    .colab-df-container {\n",
              "      display:flex;\n",
              "      flex-wrap:wrap;\n",
              "      gap: 12px;\n",
              "    }\n",
              "\n",
              "    .colab-df-convert {\n",
              "      background-color: #E8F0FE;\n",
              "      border: none;\n",
              "      border-radius: 50%;\n",
              "      cursor: pointer;\n",
              "      display: none;\n",
              "      fill: #1967D2;\n",
              "      height: 32px;\n",
              "      padding: 0 0 0 0;\n",
              "      width: 32px;\n",
              "    }\n",
              "\n",
              "    .colab-df-convert:hover {\n",
              "      background-color: #E2EBFA;\n",
              "      box-shadow: 0px 1px 2px rgba(60, 64, 67, 0.3), 0px 1px 3px 1px rgba(60, 64, 67, 0.15);\n",
              "      fill: #174EA6;\n",
              "    }\n",
              "\n",
              "    [theme=dark] .colab-df-convert {\n",
              "      background-color: #3B4455;\n",
              "      fill: #D2E3FC;\n",
              "    }\n",
              "\n",
              "    [theme=dark] .colab-df-convert:hover {\n",
              "      background-color: #434B5C;\n",
              "      box-shadow: 0px 1px 3px 1px rgba(0, 0, 0, 0.15);\n",
              "      filter: drop-shadow(0px 1px 2px rgba(0, 0, 0, 0.3));\n",
              "      fill: #FFFFFF;\n",
              "    }\n",
              "  </style>\n",
              "\n",
              "      <script>\n",
              "        const buttonEl =\n",
              "          document.querySelector('#df-5b25ee7a-4c4a-4c1e-b1a0-1db01d0b3c66 button.colab-df-convert');\n",
              "        buttonEl.style.display =\n",
              "          google.colab.kernel.accessAllowed ? 'block' : 'none';\n",
              "\n",
              "        async function convertToInteractive(key) {\n",
              "          const element = document.querySelector('#df-5b25ee7a-4c4a-4c1e-b1a0-1db01d0b3c66');\n",
              "          const dataTable =\n",
              "            await google.colab.kernel.invokeFunction('convertToInteractive',\n",
              "                                                     [key], {});\n",
              "          if (!dataTable) return;\n",
              "\n",
              "          const docLinkHtml = 'Like what you see? Visit the ' +\n",
              "            '<a target=\"_blank\" href=https://colab.research.google.com/notebooks/data_table.ipynb>data table notebook</a>'\n",
              "            + ' to learn more about interactive tables.';\n",
              "          element.innerHTML = '';\n",
              "          dataTable['output_type'] = 'display_data';\n",
              "          await google.colab.output.renderOutput(dataTable, element);\n",
              "          const docLink = document.createElement('div');\n",
              "          docLink.innerHTML = docLinkHtml;\n",
              "          element.appendChild(docLink);\n",
              "        }\n",
              "      </script>\n",
              "    </div>\n",
              "  </div>\n",
              "  "
            ]
          },
          "metadata": {},
          "execution_count": 652
        }
      ]
    },
    {
      "cell_type": "code",
      "source": [
        "array_y[0]"
      ],
      "metadata": {
        "colab": {
          "base_uri": "https://localhost:8080/",
          "height": 423
        },
        "id": "NMQre8JnmvAu",
        "outputId": "1d53f40e-3241-4c23-dcb7-8b6bf0783294"
      },
      "execution_count": 653,
      "outputs": [
        {
          "output_type": "execute_result",
          "data": {
            "text/plain": [
              "            Temp\n",
              "0      27.235806\n",
              "154    28.468842\n",
              "308    28.214651\n",
              "462    27.590841\n",
              "616    27.590750\n",
              "...          ...\n",
              "28798  25.379189\n",
              "28952  25.000307\n",
              "29106  22.845173\n",
              "29260  23.877037\n",
              "29414  24.035517\n",
              "\n",
              "[192 rows x 1 columns]"
            ],
            "text/html": [
              "\n",
              "  <div id=\"df-fdab13fb-0e78-4bb0-983c-be67362a00c3\">\n",
              "    <div class=\"colab-df-container\">\n",
              "      <div>\n",
              "<style scoped>\n",
              "    .dataframe tbody tr th:only-of-type {\n",
              "        vertical-align: middle;\n",
              "    }\n",
              "\n",
              "    .dataframe tbody tr th {\n",
              "        vertical-align: top;\n",
              "    }\n",
              "\n",
              "    .dataframe thead th {\n",
              "        text-align: right;\n",
              "    }\n",
              "</style>\n",
              "<table border=\"1\" class=\"dataframe\">\n",
              "  <thead>\n",
              "    <tr style=\"text-align: right;\">\n",
              "      <th></th>\n",
              "      <th>Temp</th>\n",
              "    </tr>\n",
              "  </thead>\n",
              "  <tbody>\n",
              "    <tr>\n",
              "      <th>0</th>\n",
              "      <td>27.235806</td>\n",
              "    </tr>\n",
              "    <tr>\n",
              "      <th>154</th>\n",
              "      <td>28.468842</td>\n",
              "    </tr>\n",
              "    <tr>\n",
              "      <th>308</th>\n",
              "      <td>28.214651</td>\n",
              "    </tr>\n",
              "    <tr>\n",
              "      <th>462</th>\n",
              "      <td>27.590841</td>\n",
              "    </tr>\n",
              "    <tr>\n",
              "      <th>616</th>\n",
              "      <td>27.590750</td>\n",
              "    </tr>\n",
              "    <tr>\n",
              "      <th>...</th>\n",
              "      <td>...</td>\n",
              "    </tr>\n",
              "    <tr>\n",
              "      <th>28798</th>\n",
              "      <td>25.379189</td>\n",
              "    </tr>\n",
              "    <tr>\n",
              "      <th>28952</th>\n",
              "      <td>25.000307</td>\n",
              "    </tr>\n",
              "    <tr>\n",
              "      <th>29106</th>\n",
              "      <td>22.845173</td>\n",
              "    </tr>\n",
              "    <tr>\n",
              "      <th>29260</th>\n",
              "      <td>23.877037</td>\n",
              "    </tr>\n",
              "    <tr>\n",
              "      <th>29414</th>\n",
              "      <td>24.035517</td>\n",
              "    </tr>\n",
              "  </tbody>\n",
              "</table>\n",
              "<p>192 rows × 1 columns</p>\n",
              "</div>\n",
              "      <button class=\"colab-df-convert\" onclick=\"convertToInteractive('df-fdab13fb-0e78-4bb0-983c-be67362a00c3')\"\n",
              "              title=\"Convert this dataframe to an interactive table.\"\n",
              "              style=\"display:none;\">\n",
              "        \n",
              "  <svg xmlns=\"http://www.w3.org/2000/svg\" height=\"24px\"viewBox=\"0 0 24 24\"\n",
              "       width=\"24px\">\n",
              "    <path d=\"M0 0h24v24H0V0z\" fill=\"none\"/>\n",
              "    <path d=\"M18.56 5.44l.94 2.06.94-2.06 2.06-.94-2.06-.94-.94-2.06-.94 2.06-2.06.94zm-11 1L8.5 8.5l.94-2.06 2.06-.94-2.06-.94L8.5 2.5l-.94 2.06-2.06.94zm10 10l.94 2.06.94-2.06 2.06-.94-2.06-.94-.94-2.06-.94 2.06-2.06.94z\"/><path d=\"M17.41 7.96l-1.37-1.37c-.4-.4-.92-.59-1.43-.59-.52 0-1.04.2-1.43.59L10.3 9.45l-7.72 7.72c-.78.78-.78 2.05 0 2.83L4 21.41c.39.39.9.59 1.41.59.51 0 1.02-.2 1.41-.59l7.78-7.78 2.81-2.81c.8-.78.8-2.07 0-2.86zM5.41 20L4 18.59l7.72-7.72 1.47 1.35L5.41 20z\"/>\n",
              "  </svg>\n",
              "      </button>\n",
              "      \n",
              "  <style>\n",
              "    .colab-df-container {\n",
              "      display:flex;\n",
              "      flex-wrap:wrap;\n",
              "      gap: 12px;\n",
              "    }\n",
              "\n",
              "    .colab-df-convert {\n",
              "      background-color: #E8F0FE;\n",
              "      border: none;\n",
              "      border-radius: 50%;\n",
              "      cursor: pointer;\n",
              "      display: none;\n",
              "      fill: #1967D2;\n",
              "      height: 32px;\n",
              "      padding: 0 0 0 0;\n",
              "      width: 32px;\n",
              "    }\n",
              "\n",
              "    .colab-df-convert:hover {\n",
              "      background-color: #E2EBFA;\n",
              "      box-shadow: 0px 1px 2px rgba(60, 64, 67, 0.3), 0px 1px 3px 1px rgba(60, 64, 67, 0.15);\n",
              "      fill: #174EA6;\n",
              "    }\n",
              "\n",
              "    [theme=dark] .colab-df-convert {\n",
              "      background-color: #3B4455;\n",
              "      fill: #D2E3FC;\n",
              "    }\n",
              "\n",
              "    [theme=dark] .colab-df-convert:hover {\n",
              "      background-color: #434B5C;\n",
              "      box-shadow: 0px 1px 3px 1px rgba(0, 0, 0, 0.15);\n",
              "      filter: drop-shadow(0px 1px 2px rgba(0, 0, 0, 0.3));\n",
              "      fill: #FFFFFF;\n",
              "    }\n",
              "  </style>\n",
              "\n",
              "      <script>\n",
              "        const buttonEl =\n",
              "          document.querySelector('#df-fdab13fb-0e78-4bb0-983c-be67362a00c3 button.colab-df-convert');\n",
              "        buttonEl.style.display =\n",
              "          google.colab.kernel.accessAllowed ? 'block' : 'none';\n",
              "\n",
              "        async function convertToInteractive(key) {\n",
              "          const element = document.querySelector('#df-fdab13fb-0e78-4bb0-983c-be67362a00c3');\n",
              "          const dataTable =\n",
              "            await google.colab.kernel.invokeFunction('convertToInteractive',\n",
              "                                                     [key], {});\n",
              "          if (!dataTable) return;\n",
              "\n",
              "          const docLinkHtml = 'Like what you see? Visit the ' +\n",
              "            '<a target=\"_blank\" href=https://colab.research.google.com/notebooks/data_table.ipynb>data table notebook</a>'\n",
              "            + ' to learn more about interactive tables.';\n",
              "          element.innerHTML = '';\n",
              "          dataTable['output_type'] = 'display_data';\n",
              "          await google.colab.output.renderOutput(dataTable, element);\n",
              "          const docLink = document.createElement('div');\n",
              "          docLink.innerHTML = docLinkHtml;\n",
              "          element.appendChild(docLink);\n",
              "        }\n",
              "      </script>\n",
              "    </div>\n",
              "  </div>\n",
              "  "
            ]
          },
          "metadata": {},
          "execution_count": 653
        }
      ]
    },
    {
      "cell_type": "code",
      "source": [
        "y_testing = []\n",
        "\n",
        "import joblib\n",
        "from sklearn.linear_model import LinearRegression\n",
        "\n",
        "#model\n",
        "from sklearn.svm import SVR\n",
        "from sklearn.linear_model import Lasso\n",
        "from sklearn.ensemble import RandomForestRegressor\n",
        "\n",
        "#preprocessing and metric\n",
        "from sklearn.model_selection import train_test_split\n",
        "from sklearn.metrics import r2_score as r2\n",
        "from sklearn.metrics import mean_squared_error as mse\n",
        "from sklearn.metrics import mean_absolute_error as mae\n",
        "\n",
        "for i in range(154):\n",
        "  x = array_x[i]\n",
        "  y = array_y[i]\n",
        "  x_train,x_test,y_train,y_test = train_test_split(x,y, test_size=0.15, random_state= 10)\n",
        "  y_testing.append(y_test)\n",
        "  #fitting\n",
        "  regressor = Lasso(alpha=0.1)\n",
        "  regressor.fit(x_train,y_train)\n",
        "  joblib.dump(regressor,f'model {i}',)"
      ],
      "metadata": {
        "id": "YzoKJcYJxtc3"
      },
      "execution_count": 654,
      "outputs": []
    },
    {
      "cell_type": "code",
      "source": [
        "skor_r2=[]\n",
        "mae_=[]\n",
        "rmse = []\n",
        "y_predict = []\n",
        "for i in range(154):\n",
        "  model = joblib.load(f'model {i}')\n",
        "  y_pred = model.predict(x_test)\n",
        "  Skor_r2 = r2(y_test,y_pred)\n",
        "  RMSE = mse(y_test,y_pred,squared=False)\n",
        "  MAE = mae(y_test,y_pred)\n",
        "  y_predict.append(y_pred)\n",
        "  skor_r2.append(Skor_r2)\n",
        "  mae_.append(MAE)\n",
        "  rmse.append(RMSE)"
      ],
      "metadata": {
        "id": "tZv2d5MOxWIs"
      },
      "execution_count": 655,
      "outputs": []
    },
    {
      "cell_type": "code",
      "source": [
        "skor_r2 = np.array(skor_r2)\n",
        "rmse = np.array(rmse)\n",
        "mae_=np.array(mae_)\n",
        "y_predict = np.array(y_predict)\n",
        "y_testing = np.array(y_testing)"
      ],
      "metadata": {
        "id": "eOdRUDjS7KEr"
      },
      "execution_count": 656,
      "outputs": []
    },
    {
      "cell_type": "code",
      "source": [
        "skor_r2.shape, rmse.shape, y_predict.shape, y_testing.shape"
      ],
      "metadata": {
        "colab": {
          "base_uri": "https://localhost:8080/"
        },
        "id": "UrgRHHwH7NSY",
        "outputId": "902034ab-37b6-4ff2-dc3c-e6fbd1998c89"
      },
      "execution_count": 657,
      "outputs": [
        {
          "output_type": "execute_result",
          "data": {
            "text/plain": [
              "((154,), (154,), (154, 29), (154, 29, 1))"
            ]
          },
          "metadata": {},
          "execution_count": 657
        }
      ]
    },
    {
      "cell_type": "code",
      "source": [
        "r2_matrix = skor_r2.reshape(11,14)\n",
        "rmse_matrix = rmse.reshape(11,14)\n",
        "mae_matrix = mae_.reshape(11,14)"
      ],
      "metadata": {
        "id": "ok-elM-e7ewb"
      },
      "execution_count": 658,
      "outputs": []
    },
    {
      "cell_type": "code",
      "source": [
        "import numpy as np\n",
        "import seaborn as sns\n",
        "import matplotlib.pylab as plt\n",
        "\n",
        "ax = sns.heatmap(r2_matrix, linewidth=0.5, cmap=\"RdYlBu\")\n",
        "plt.show()"
      ],
      "metadata": {
        "colab": {
          "base_uri": "https://localhost:8080/",
          "height": 265
        },
        "id": "dWwYjSpJ9DVo",
        "outputId": "2297f05c-bf9e-40ba-8d0e-2d4a1042764d"
      },
      "execution_count": 659,
      "outputs": [
        {
          "output_type": "display_data",
          "data": {
            "text/plain": [
              "<Figure size 432x288 with 2 Axes>"
            ],
            "image/png": "[encoded data removed]"
          },
          "metadata": {
            "needs_background": "light"
          }
        }
      ]
    },
    {
      "cell_type": "code",
      "source": [
        "bx = sns.heatmap(rmse_matrix, linewidth=0.5, cmap=\"RdYlBu_r\")\n",
        "plt.show()"
      ],
      "metadata": {
        "colab": {
          "base_uri": "https://localhost:8080/",
          "height": 265
        },
        "id": "gBdfYWCy9zSy",
        "outputId": "5cb59663-c9d0-41d0-e945-1b126a790996"
      },
      "execution_count": 660,
      "outputs": [
        {
          "output_type": "display_data",
          "data": {
            "text/plain": [
              "<Figure size 432x288 with 2 Axes>"
            ],
            "image/png": "[encoded data removed]"
          },
          "metadata": {
            "needs_background": "light"
          }
        }
      ]
    },
    {
      "cell_type": "code",
      "source": [
        "bx = sns.heatmap(mae_matrix, linewidth=0.5, cmap=\"RdYlBu_r\")\n",
        "plt.show()"
      ],
      "metadata": {
        "colab": {
          "base_uri": "https://localhost:8080/",
          "height": 268
        },
        "id": "9ks2ucPJ96cw",
        "outputId": "99184fd3-4982-44ab-b437-216099b564b1"
      },
      "execution_count": 661,
      "outputs": [
        {
          "output_type": "display_data",
          "data": {
            "text/plain": [
              "<Figure size 432x288 with 2 Axes>"
            ],
            "image/png": "[encoded data removed]"
          },
          "metadata": {
            "needs_background": "light"
          }
        }
      ]
    },
    {
      "cell_type": "code",
      "source": [
        "scenarios = 5  #0-28\n",
        "indexing = 0    #0-3"
      ],
      "metadata": {
        "id": "BVf90rAuU4iv"
      },
      "execution_count": 670,
      "outputs": []
    },
    {
      "cell_type": "code",
      "source": [
        "a = y_testing[(...,scenarios,indexing)]\n",
        "#b = y_predict[(...,scenarios,indexing)]\n",
        "b = y_predict[...,scenarios]\n",
        "a = np.array(a)\n",
        "b = np.array(b)\n",
        "a = a.reshape(11,14)\n",
        "b = b.reshape(11,14)\n",
        "print('reshaped')"
      ],
      "metadata": {
        "colab": {
          "base_uri": "https://localhost:8080/"
        },
        "id": "3khzR7GH-d8r",
        "outputId": "cf6505c8-0a06-4098-f9ca-fbc020acb867"
      },
      "execution_count": 671,
      "outputs": [
        {
          "output_type": "stream",
          "name": "stdout",
          "text": [
            "reshaped\n"
          ]
        }
      ]
    },
    {
      "cell_type": "code",
      "source": [
        "bx = sns.heatmap(a, linewidth=0.5, cmap=\"RdYlBu_r\")\n",
        "plt.show()"
      ],
      "metadata": {
        "colab": {
          "base_uri": "https://localhost:8080/",
          "height": 265
        },
        "id": "pnktg5R6V69V",
        "outputId": "cceafb86-fb52-441b-b540-44e7858877eb"
      },
      "execution_count": 672,
      "outputs": [
        {
          "output_type": "display_data",
          "data": {
            "text/plain": [
              "<Figure size 432x288 with 2 Axes>"
            ],
            "image/png": "[encoded data removed]"
          },
          "metadata": {
            "needs_background": "light"
          }
        }
      ]
    },
    {
      "cell_type": "code",
      "source": [
        "bx = sns.heatmap(b, linewidth=0.5, cmap=\"RdYlBu_r\")\n",
        "plt.show()"
      ],
      "metadata": {
        "colab": {
          "base_uri": "https://localhost:8080/",
          "height": 269
        },
        "id": "xPIaXH43WoD0",
        "outputId": "2568c615-157d-4f9c-8d5d-6394bdabd472"
      },
      "execution_count": 673,
      "outputs": [
        {
          "output_type": "display_data",
          "data": {
            "text/plain": [
              "<Figure size 432x288 with 2 Axes>"
            ],
            "image/png": "[encoded data removed]"
          },
          "metadata": {
            "needs_background": "light"
          }
        }
      ]
    },
    {
      "cell_type": "code",
      "source": [
        "df_koor_x = pd.DataFrame(df['koor_x'])\n",
        "df_koor_y = pd.DataFrame(df['koor_y'])\n",
        "df_koor = df_koor_x.join(df_koor_y)"
      ],
      "metadata": {
        "id": "KYWdQldHA0Ki"
      },
      "execution_count": 674,
      "outputs": []
    },
    {
      "cell_type": "code",
      "source": [
        "def kec_angin(y):\n",
        "  df_y = pd.DataFrame(y[...,scenarios,0])\n",
        "  df_z = pd.DataFrame(y[...,scenarios,1])\n",
        "  df_z.rename(columns={0:1},inplace=True)\n",
        "  df_y = df_y.join(df_z)\n",
        "  df_y = df_y.join(df_koor)\n",
        "  df_y.rename(columns={0:'Vx',1:'Vy'},inplace=True)\n",
        "  return df_y"
      ],
      "metadata": {
        "id": "iErFQgKY6mFA"
      },
      "execution_count": 675,
      "outputs": []
    },
    {
      "cell_type": "code",
      "source": [
        "def tampilan_vektor(Y):\n",
        "  x = np.array(Y['koor_x'])\n",
        "  y = np.array(Y['koor_y'])\n",
        "  u = np.array(Y['Vx'])\n",
        "  v = np.array(Y['Vy'])\n",
        "  plt.quiver(x,y,u,v)"
      ],
      "metadata": {
        "id": "8hJROwDfDcFR"
      },
      "execution_count": 676,
      "outputs": []
    },
    {
      "cell_type": "code",
      "source": [
        "#bismillah wisuda awal tahun depan amiin :)"
      ],
      "metadata": {
        "id": "jEWmCQc6_4y3"
      },
      "execution_count": 677,
      "outputs": []
    }
  ]
}